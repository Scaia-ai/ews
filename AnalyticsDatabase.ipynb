{
 "cells": [
  {
   "cell_type": "code",
   "execution_count": 46,
   "id": "f50bdee1-25c0-472e-a739-c8551b5c5349",
   "metadata": {
    "ExecuteTime": {
     "end_time": "2024-06-28T07:39:51.362382Z",
     "start_time": "2024-06-28T07:39:50.135614Z"
    },
    "height": 132
   },
   "outputs": [
    {
     "data": {
      "text/plain": [
       "True"
      ]
     },
     "execution_count": 46,
     "metadata": {},
     "output_type": "execute_result"
    }
   ],
   "source": [
    "import os\n",
    "from langchain.agents import create_sql_agent\n",
    "from langchain.agents.agent_toolkits import SQLDatabaseToolkit\n",
    "from langchain.sql_database import SQLDatabase\n",
    "from langchain_openai import AzureChatOpenAI\n",
    "from sqlalchemy import create_engine\n",
    "import pandas as pd\n",
    "from dotenv import load_dotenv\n",
    "\n",
    "load_dotenv()\n",
    "\n"
   ]
  },
  {
   "cell_type": "code",
   "execution_count": 47,
   "id": "a2e02e43-c499-4897-9981-78e7fbae3491",
   "metadata": {
    "ExecuteTime": {
     "end_time": "2024-06-28T07:40:00.558532Z",
     "start_time": "2024-06-28T07:40:00.537818Z"
    },
    "height": 608
   },
   "outputs": [],
   "source": [
    "MSSQL_AGENT_PREFIX = \"\"\"\n",
    "\n",
    "You are an agent designed to interact with a SQL database.\n",
    "## Instructions:\n",
    "- Given an input question, create a syntactically correct {dialect} query\n",
    "to run, then look at the results of the query and return the answer.\n",
    "- Unless the user specifies a specific number of examples they wish to\n",
    "obtain, **ALWAYS** limit your query to at most {top_k} results.\n",
    "- You can order the results by a relevant column to return the most\n",
    "interesting examples in the database.\n",
    "- Never query for all the columns from a specific table, only ask for\n",
    "the relevant columns given the question.\n",
    "- You have access to tools for interacting with the database.\n",
    "- You MUST double check your query before executing it.If you get an error\n",
    "while executing a query,rewrite the query and try again.\n",
    "- DO NOT make any DML statements (INSERT, UPDATE, DELETE, DROP etc.)\n",
    "to the database.\n",
    "- DO NOT MAKE UP AN ANSWER OR USE PRIOR KNOWLEDGE, ONLY USE THE RESULTS\n",
    "OF THE CALCULATIONS YOU HAVE DONE.\n",
    "- Your response should be in Markdown. However, **when running  a SQL Query\n",
    "in \"Action Input\", do not include the markdown backticks**.\n",
    "Those are only for formatting the response, not for executing the command.\n",
    "- ALWAYS, as part of your final answer, explain how you got to the answer\n",
    "on a section that starts with: \"Explanation:\". Include the SQL query as\n",
    "part of the explanation section.\n",
    "- If the question does not seem related to the database, just return\n",
    "\"I don\\'t know\" as the answer.\n",
    "- Only use the below tools. Only use the information returned by the\n",
    "below tools to construct your query and final answer.\n",
    "- Do not make up table names, only use the tables returned by any of the\n",
    "tools below.\n",
    "\n",
    "## Tools:\n",
    "\n",
    "\"\"\""
   ]
  },
  {
   "cell_type": "code",
   "execution_count": 48,
   "id": "e70cd29a-c369-4419-ae27-e1f9912b5064",
   "metadata": {
    "ExecuteTime": {
     "end_time": "2024-06-28T07:40:01.437331Z",
     "start_time": "2024-06-28T07:40:01.433373Z"
    },
    "height": 693
   },
   "outputs": [],
   "source": [
    "MSSQL_AGENT_FORMAT_INSTRUCTIONS = \"\"\"\n",
    "\n",
    "## Use the following format:\n",
    "\n",
    "Question: the input question you must answer.\n",
    "Thought: you should always think about what to do.\n",
    "Action: the action to take, should be one of [{tool_names}].\n",
    "Action Input: the input to the action.\n",
    "Observation: the result of the action.\n",
    "... (this Thought/Action/Action Input/Observation can repeat N times)\n",
    "Thought: I now know the final answer.\n",
    "Final Answer: the final answer to the original input question.\n",
    "\n",
    "Example of Final Answer:\n",
    "<=== Beginning of example\n",
    "\n",
    "Action: query_sql_db\n",
    "Action Input: \n",
    "SELECT TOP (10) [death]\n",
    "FROM covidtracking \n",
    "WHERE state = 'TX' AND date LIKE '2020%'\n",
    "\n",
    "Observation:\n",
    "[(27437.0,), (27088.0,), (26762.0,), (26521.0,), (26472.0,), (26421.0,), (26408.0,)]\n",
    "Thought:I now know the final answer\n",
    "Final Answer: There were 27437 people who died of covid in Texas in 2020.\n",
    "\n",
    "Explanation:\n",
    "I queried the `covidtracking` table for the `death` column where the state\n",
    "is 'TX' and the date starts with '2020'. The query returned a list of tuples\n",
    "with the number of deaths for each day in 2020. To answer the question,\n",
    "I took the sum of all the deaths in the list, which is 27437.\n",
    "I used the following query\n",
    "\n",
    "```sql\n",
    "SELECT [death] FROM covidtracking WHERE state = 'TX' AND date LIKE '2020%'\"\n",
    "```\n",
    "===> End of Example\n",
    "\n",
    "\"\"\""
   ]
  },
  {
   "cell_type": "code",
   "execution_count": 49,
   "id": "a9d5ffc3-cea0-48f8-96ce-177bb9cecd92",
   "metadata": {
    "ExecuteTime": {
     "end_time": "2024-06-28T07:40:04.783402Z",
     "start_time": "2024-06-28T07:40:04.677309Z"
    },
    "height": 183
   },
   "outputs": [],
   "source": [
    "llm = AzureChatOpenAI(\n",
    "    openai_api_version=os.getenv('OPENAI_API_VERSION'),\n",
    "    azure_deployment=os.getenv('AZURE_DEPLOYMENT'),\n",
    "    azure_endpoint=os.getenv('AZURE_ENDPOINT'),\n",
    "    temperature=0, \n",
    "    max_tokens=500\n",
    ")\n",
    "server = 'ews.database.windows.net'\n",
    "database = 'ews_assets'\n",
    "username = 'ews_admin'\n",
    "password = 'Test1234!' \n",
    "driver = '{ODBC Driver 18 for SQL Server}' \n",
    "\n",
    "connection_string = (\n",
    "    \"mssql+pyodbc://{username}:{password}@{server}/{database}\"\n",
    "    \"?driver=ODBC+Driver+18+for+SQL+Server\"\n",
    ").format(\n",
    "    username=username,\n",
    "    password=password,\n",
    "    server='ews.database.windows.net',\n",
    "    database = 'ews_assets'\n",
    ")\n",
    "db = SQLDatabase.from_uri(connection_string)\n",
    "toolkit = SQLDatabaseToolkit(db=db, llm=llm)"
   ]
  },
  {
   "cell_type": "code",
   "execution_count": 53,
   "id": "50e7259a-ee4b-4c8f-a0fa-f747237ad6a4",
   "metadata": {
    "ExecuteTime": {
     "end_time": "2024-06-28T07:40:05.848042Z",
     "start_time": "2024-06-28T07:40:05.716834Z"
    },
    "height": 234
   },
   "outputs": [],
   "source": [
    "QUESTION = \"\"\"In the I-OBS table how many records there are with Wx_Model_Hour = 0, Take in consideration only the the records with the following EWS_ID 5136,\n",
    "5134, 5133, 5205, 5142, 5143, 5141, 5289, 5290, 5291, 5292, 5118, 5121, 5125, 5126, 5127, 5128, 5184, 5525\n",
    "\"\"\"\n",
    "\n",
    "agent_executor_SQL = create_sql_agent(\n",
    "    prefix=MSSQL_AGENT_PREFIX,\n",
    "    format_instructions = MSSQL_AGENT_FORMAT_INSTRUCTIONS,\n",
    "    llm=llm,\n",
    "    toolkit=toolkit,\n",
    "    top_k=30,\n",
    "    verbose=True,\n",
    "    handle_parsing_errors=True\n",
    ")"
   ]
  },
  {
   "cell_type": "code",
   "execution_count": 54,
   "id": "953cee48-831b-4b87-98ef-359fafb7492d",
   "metadata": {
    "height": 30
   },
   "outputs": [
    {
     "name": "stdout",
     "output_type": "stream",
     "text": [
      "\n",
      "\n",
      "\u001b[1m> Entering new SQL Agent Executor chain...\u001b[0m\n",
      "\u001b[32;1m\u001b[1;3mAction: sql_db_list_tables\n",
      "Action Input: \u001b[0m\u001b[38;5;200m\u001b[1;3mClarity_Unit, ERCOT_Region, ERCOT_WeatherRegion, EWS, EWS_Location, EWS_USGS_Summary, GenerationData, I-OBS, IIR_Location, IIR_Operator, IIR_Owner, IIR_Parent, IIR_Plant, IIR_Turbine, IIR_Unit, IIR_WindPowerCurves, USGS, sysdiagrams\u001b[0m\u001b[32;1m\u001b[1;3mThe I-OBS table is available, so I should check its schema to understand which columns are available and how to properly construct my query.\n",
      "Action: sql_db_schema\n",
      "Action Input: I-OBS\u001b[0m\u001b[33;1m\u001b[1;3m\n",
      "CREATE TABLE [I-OBS] (\n",
      "\t[ID] BIGINT NOT NULL IDENTITY(1,1), \n",
      "\t[EWS_ID] INTEGER NOT NULL, \n",
      "\t[Wx_Source_Alias] NVARCHAR(50) COLLATE SQL_Latin1_General_CP1_CI_AS NOT NULL, \n",
      "\t[Wx_Model_Run_DateTime_UTC] DATETIME NOT NULL, \n",
      "\t[Wx_Model_Name_Run] NVARCHAR(50) COLLATE SQL_Latin1_General_CP1_CI_AS NULL, \n",
      "\t[Wx_Model_Hour] VARCHAR(10) COLLATE SQL_Latin1_General_CP1_CI_AS NULL, \n",
      "\t[Receipt_Time_LocalTime] NVARCHAR(50) COLLATE SQL_Latin1_General_CP1_CI_AS NULL, \n",
      "\t[Forecast_Valid_DateTime_LocalTime] DATETIME NULL, \n",
      "\t[Forecast_ValidDayOfWeek_Local] NVARCHAR(50) COLLATE SQL_Latin1_General_CP1_CI_AS NULL, \n",
      "\t[Forecast_ValidHourOfTheDay_Local] NVARCHAR(50) COLLATE SQL_Latin1_General_CP1_CI_AS NULL, \n",
      "\t[Location_Code] NVARCHAR(200) COLLATE SQL_Latin1_General_CP1_CI_AS NULL, \n",
      "\t[Air_temp] DECIMAL(18, 2) NULL, \n",
      "\t[Temp_surface_c] DECIMAL(18, 2) NULL, \n",
      "\trh DECIMAL(18, 2) NULL, \n",
      "\tap DECIMAL(18, 2) NULL, \n",
      "\twind_direction_100m DECIMAL(18, 2) NULL, \n",
      "\twind_speed_100m DECIMAL(18, 2) NULL, \n",
      "\twind_direction_80m DECIMAL(18, 2) NULL, \n",
      "\twind_speed_80m DECIMAL(18, 2) NULL, \n",
      "\twind_direction_10m DECIMAL(18, 2) NULL, \n",
      "\twind_speed_10m DECIMAL(18, 2) NULL, \n",
      "\tgust_surface DECIMAL(18, 2) NULL, \n",
      "\tprecipitable_water DECIMAL(18, 2) NULL, \n",
      "\tprecipitation_rate DECIMAL(18, 2) NULL, \n",
      "\tsnow_water_cm DECIMAL(18, 2) NULL, \n",
      "\tsnow_soiling_rooftop DECIMAL(18, 2) NULL, \n",
      "\tsnow_soiling_ground DECIMAL(18, 2) NULL, \n",
      "\tzenith DECIMAL(18, 2) NULL, \n",
      "\tpv_power_rooftop DECIMAL(18, 2) NULL, \n",
      "\tpv_power_rooftop10 DECIMAL(18, 2) NULL, \n",
      "\tpv_power_rooftop90 DECIMAL(18, 2) NULL, \n",
      "\t[TheoWatts] DECIMAL(18, 2) NULL, \n",
      "\tCONSTRAINT [PK_PowerTheowatts] PRIMARY KEY ([ID])\n",
      ")\n",
      "\n",
      "/*\n",
      "3 rows from I-OBS table:\n",
      "ID\tEWS_ID\tWx_Source_Alias\tWx_Model_Run_DateTime_UTC\tWx_Model_Name_Run\tWx_Model_Hour\tReceipt_Time_LocalTime\tForecast_Valid_DateTime_LocalTime\tForecast_ValidDayOfWeek_Local\tForecast_ValidHourOfTheDay_Local\tLocation_Code\tAir_temp\tTemp_surface_c\trh\tap\twind_direction_100m\twind_speed_100m\twind_direction_80m\twind_speed_80m\twind_direction_10m\twind_speed_10m\tgust_surface\tprecipitable_water\tprecipitation_rate\tsnow_water_cm\tsnow_soiling_rooftop\tsnow_soiling_ground\tzenith\tpv_power_rooftop\tpv_power_rooftop10\tpv_power_rooftop90\tTheoWatts\n",
      "1\t5134\tPANTHER\t2023-07-01 23:45:00\t23:45z PNTHR-SR\t0\t7/1/2023 6:57:38 PM\t2023-07-01 18:45:00\tSaturday\t18:45\tBuffalo Gap 2\t23.37\t23.69\t83.28\t921.11\tNone\tNone\t351.05\t13.39\t349.40\t9.23\t7.90\t37.63\tNone\tNone\tNone\tNone\tNone\tNone\tNone\tNone\t229.40\n",
      "2\t5134\tPANTHER\t2023-07-01 23:45:00\t23:45z PNTHR-SR\t0:15\t7/1/2023 6:57:38 PM\t2023-07-01 19:00:00\tSaturday\t19\tBuffalo Gap 2\t23.21\t23.32\t84.12\t921.64\tNone\tNone\t350.82\t13.15\t348.81\t8.78\t7.86\t37.74\tNone\tNone\tNone\tNone\tNone\tNone\tNone\tNone\tNone\n",
      "3\t5134\tPANTHER\t2023-07-01 23:45:00\t23:45z PNTHR-SR\t0:30\t7/1/2023 6:57:38 PM\t2023-07-01 19:15:00\tSaturday\t19:15\tBuffalo Gap 2\t23.05\t23.07\t84.98\t921.95\tNone\tNone\t351.89\t12.85\t349.83\t8.35\t7.81\t37.91\tNone\tNone\tNone\tNone\tNone\tNone\tNone\tNone\tNone\n",
      "*/\u001b[0m\u001b[32;1m\u001b[1;3mNow that I have the schema for the I-OBS table, I can see that it contains the columns `EWS_ID` and `Wx_Model_Hour`, which are relevant to the question. I need to count the records where `Wx_Model_Hour` is 0 and `EWS_ID` is one of the specified values.\n",
      "Action: sql_db_query_checker\n",
      "Action Input: SELECT COUNT(*) FROM [I-OBS] WHERE Wx_Model_Hour = '0' AND EWS_ID IN (5136, 5134, 5133, 5205, 5142, 5143, 5141, 5289, 5290, 5291, 5292, 5118, 5121, 5125, 5126, 5127, 5128, 5184, 5525)\u001b[0m\u001b[36;1m\u001b[1;3m```sql\n",
      "SELECT COUNT(*) FROM [I-OBS] WHERE Wx_Model_Hour = '0' AND EWS_ID IN (5136, 5134, 5133, 5205, 5142, 5143, 5141, 5289, 5290, 5291, 5292, 5118, 5121, 5125, 5126, 5127, 5128, 5184, 5525)\n",
      "```\u001b[0m\u001b[32;1m\u001b[1;3mThe query checker has confirmed that my query syntax is correct. Now, I will execute the query to find out how many records match the criteria.\n",
      "Action: sql_db_query\n",
      "Action Input: SELECT COUNT(*) FROM [I-OBS] WHERE Wx_Model_Hour = '0' AND EWS_ID IN (5136, 5134, 5133, 5205, 5142, 5143, 5141, 5289, 5290, 5291, 5292, 5118, 5121, 5125, 5126, 5127, 5128, 5184, 5525)\u001b[0m\u001b[36;1m\u001b[1;3m[(861089,)]\u001b[0m\u001b[32;1m\u001b[1;3mI now know the final answer.\n",
      "\n",
      "Final Answer: There are 861,089 records in the I-OBS table with Wx_Model_Hour = 0 for the specified EWS_IDs.\n",
      "\n",
      "Explanation:\n",
      "I queried the `I-OBS` table to count the number of records where `Wx_Model_Hour` is '0' and `EWS_ID` is within the specified list of IDs. The SQL query used was:\n",
      "\n",
      "```sql\n",
      "SELECT COUNT(*) FROM [I-OBS] WHERE Wx_Model_Hour = '0' AND EWS_ID IN (5136, 5134, 5133, 5205, 5142, 5143, 5141, 5289, 5290, 5291, 5292, 5118, 5121, 5125, 5126, 5127, 5128, 5184, 5525)\n",
      "```\n",
      "\n",
      "This query returned a count of 861,089, indicating the total number of records that match the criteria.\u001b[0m\n",
      "\n",
      "\u001b[1m> Finished chain.\u001b[0m\n"
     ]
    },
    {
     "data": {
      "text/plain": [
       "{'input': 'In the I-OBS table how many records there are with Wx_Model_Hour = 0, Take in consideration only the the records with the following EWS_ID 5136,\\n5134, 5133, 5205, 5142, 5143, 5141, 5289, 5290, 5291, 5292, 5118, 5121, 5125, 5126, 5127, 5128, 5184, 5525\\n',\n",
       " 'output': \"There are 861,089 records in the I-OBS table with Wx_Model_Hour = 0 for the specified EWS_IDs.\\n\\nExplanation:\\nI queried the `I-OBS` table to count the number of records where `Wx_Model_Hour` is '0' and `EWS_ID` is within the specified list of IDs. The SQL query used was:\\n\\n```sql\\nSELECT COUNT(*) FROM [I-OBS] WHERE Wx_Model_Hour = '0' AND EWS_ID IN (5136, 5134, 5133, 5205, 5142, 5143, 5141, 5289, 5290, 5291, 5292, 5118, 5121, 5125, 5126, 5127, 5128, 5184, 5525)\\n```\\n\\nThis query returned a count of 861,089, indicating the total number of records that match the criteria.\"}"
      ]
     },
     "execution_count": 54,
     "metadata": {},
     "output_type": "execute_result"
    }
   ],
   "source": [
    "agent_executor_SQL.invoke(QUESTION)"
   ]
  },
  {
   "cell_type": "code",
   "execution_count": null,
   "id": "3511a7fc",
   "metadata": {},
   "outputs": [],
   "source": []
  },
  {
   "cell_type": "code",
   "execution_count": null,
   "id": "8e8aaa9c",
   "metadata": {},
   "outputs": [],
   "source": []
  }
 ],
 "metadata": {
  "kernelspec": {
   "display_name": "Python 3",
   "language": "python",
   "name": "python3"
  },
  "language_info": {
   "codemirror_mode": {
    "name": "ipython",
    "version": 3
   },
   "file_extension": ".py",
   "mimetype": "text/x-python",
   "name": "python",
   "nbconvert_exporter": "python",
   "pygments_lexer": "ipython3",
   "version": "3.11.9"
  }
 },
 "nbformat": 4,
 "nbformat_minor": 5
}
